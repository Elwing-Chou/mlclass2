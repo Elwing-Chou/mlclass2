{
 "cells": [
  {
   "cell_type": "code",
   "execution_count": 1,
   "metadata": {},
   "outputs": [
    {
     "name": "stderr",
     "output_type": "stream",
     "text": [
      "Using TensorFlow backend.\n"
     ]
    }
   ],
   "source": [
    "import ssl\n",
    "ssl._create_default_https_context = ssl._create_unverified_context\n",
    "from keras.datasets.cifar10 import load_data\n",
    "((x_train, y_train), (x_test, y_test)) = load_data()"
   ]
  },
  {
   "cell_type": "code",
   "execution_count": 2,
   "metadata": {},
   "outputs": [
    {
     "name": "stdout",
     "output_type": "stream",
     "text": [
      "訓練資料有幾筆呢? (50000, 32, 32, 3)\n",
      "測試資料有幾筆呢? (10000, 32, 32, 3)\n"
     ]
    }
   ],
   "source": [
    "print(\"訓練資料有幾筆呢?\", x_train.shape)\n",
    "print(\"測試資料有幾筆呢?\", x_test.shape)"
   ]
  },
  {
   "cell_type": "code",
   "execution_count": 3,
   "metadata": {
    "collapsed": true
   },
   "outputs": [],
   "source": [
    "trans = {0:\"飛機\", 1:\"汽車\", 2:\"鳥\", 3:\"貓\", 4:\"鹿\",\n",
    "         5:\"狗\", 6:\"青蛙\", 7:\"馬\", 8:\"船\", 9:\"卡車\"}"
   ]
  },
  {
   "cell_type": "code",
   "execution_count": 4,
   "metadata": {},
   "outputs": [
    {
     "name": "stdout",
     "output_type": "stream",
     "text": [
      "這幅圖片是: 鳥\n"
     ]
    },
    {
     "data": {
      "text/plain": [
       "<matplotlib.image.AxesImage at 0x124891f28>"
      ]
     },
     "execution_count": 4,
     "metadata": {},
     "output_type": "execute_result"
    },
    {
     "data": {
      "image/png": "[encoded data removed]",
      "text/plain": [
       "<matplotlib.figure.Figure at 0x1170882b0>"
      ]
     },
     "metadata": {},
     "output_type": "display_data"
    }
   ],
   "source": [
    "import random\n",
    "import matplotlib.pyplot as plt\n",
    "%matplotlib inline\n",
    "c = random.randint(0, 49999)\n",
    "print(\"這幅圖片是:\", trans[y_train[c][0]])\n",
    "plt.imshow(x_train[c])"
   ]
  },
  {
   "cell_type": "code",
   "execution_count": 5,
   "metadata": {
    "collapsed": true
   },
   "outputs": [],
   "source": [
    "# 資料預處理\n",
    "# 圖片: 標準化(0 - 1)\n",
    "x_train_reshape = x_train / 255\n",
    "x_test_reshape = x_test / 255\n",
    "# 答案: 把你的答案變成每一個輸出神經元都要一個值(One-Hot)\n",
    "from keras.utils import np_utils\n",
    "y_train_cat = np_utils.to_categorical(y_train)\n",
    "y_test_cat = np_utils.to_categorical(y_test)"
   ]
  },
  {
   "cell_type": "code",
   "execution_count": 6,
   "metadata": {},
   "outputs": [
    {
     "name": "stdout",
     "output_type": "stream",
     "text": [
      "秀一筆 [6] 給你看 [0. 0. 0. 0. 0. 0. 1. 0. 0. 0.]\n"
     ]
    }
   ],
   "source": [
    "print(\"秀一筆\", y_train[0] , \"給你看\", y_train_cat[0])"
   ]
  },
  {
   "cell_type": "code",
   "execution_count": 15,
   "metadata": {},
   "outputs": [
    {
     "name": "stdout",
     "output_type": "stream",
     "text": [
      "_________________________________________________________________\n",
      "Layer (type)                 Output Shape              Param #   \n",
      "=================================================================\n",
      "conv2d_12 (Conv2D)           (None, 32, 32, 32)        896       \n",
      "_________________________________________________________________\n",
      "max_pooling2d_8 (MaxPooling2 (None, 16, 16, 32)        0         \n",
      "_________________________________________________________________\n",
      "conv2d_13 (Conv2D)           (None, 16, 16, 64)        18496     \n",
      "_________________________________________________________________\n",
      "max_pooling2d_9 (MaxPooling2 (None, 8, 8, 64)          0         \n",
      "_________________________________________________________________\n",
      "conv2d_14 (Conv2D)           (None, 8, 8, 128)         73856     \n",
      "_________________________________________________________________\n",
      "max_pooling2d_10 (MaxPooling (None, 4, 4, 128)         0         \n",
      "_________________________________________________________________\n",
      "flatten_2 (Flatten)          (None, 2048)              0         \n",
      "_________________________________________________________________\n",
      "dense_1 (Dense)              (None, 512)               1049088   \n",
      "_________________________________________________________________\n",
      "dense_2 (Dense)              (None, 128)               65664     \n",
      "_________________________________________________________________\n",
      "dense_3 (Dense)              (None, 10)                1290      \n",
      "=================================================================\n",
      "Total params: 1,209,290\n",
      "Trainable params: 1,209,290\n",
      "Non-trainable params: 0\n",
      "_________________________________________________________________\n"
     ]
    }
   ],
   "source": [
    "from keras.models import Sequential\n",
    "from keras.layers import Conv2D, MaxPooling2D, Flatten, Dense\n",
    "cnn = Sequential()\n",
    "# 只要第一層, 一定要固定輸入大小\n",
    "# 卷積: 抓特徵\n",
    "# Param: 3 * 3(一個filter格子數) * 3(格子裡參數RGB) * 32(個filter) + 32(bias) = 896\n",
    "cnn.add(Conv2D(input_shape=(32, 32, 3),\n",
    "               kernel_size=(3, 3),\n",
    "               filters=32,\n",
    "               activation=\"relu\",\n",
    "               padding=\"same\"))\n",
    "# 池化: 減低計算量\n",
    "cnn.add(MaxPooling2D(pool_size=(2, 2)))\n",
    "# Param: 3 * 3(一個filter格子數) * 32(格子裡參數) * 64(個filter) + 64(bias) = 18496\n",
    "cnn.add(Conv2D(kernel_size=(3, 3),\n",
    "               filters=64,\n",
    "               activation=\"relu\",\n",
    "               padding=\"same\"))\n",
    "cnn.add(MaxPooling2D(pool_size=(2, 2)))\n",
    "cnn.add(Conv2D(kernel_size=(3, 3),\n",
    "               filters=128,\n",
    "               activation=\"relu\",\n",
    "               padding=\"same\"))\n",
    "cnn.add(MaxPooling2D(pool_size=(2, 2)))\n",
    "# 加上大腦\n",
    "cnn.add(Flatten())\n",
    "cnn.add(Dense(units=512, activation=\"relu\"))\n",
    "cnn.add(Dense(units=128, activation=\"relu\"))\n",
    "cnn.add(Dense(units=10, activation=\"softmax\"))\n",
    "cnn.summary()"
   ]
  },
  {
   "cell_type": "code",
   "execution_count": 16,
   "metadata": {
    "collapsed": true
   },
   "outputs": [],
   "source": [
    "cnn.compile(optimizer=\"adam\", loss=\"categorical_crossentropy\", metrics=[\"accuracy\"])"
   ]
  },
  {
   "cell_type": "code",
   "execution_count": 19,
   "metadata": {},
   "outputs": [
    {
     "name": "stdout",
     "output_type": "stream",
     "text": [
      "Train on 45000 samples, validate on 5000 samples\n",
      "Epoch 1/10\n",
      " - 76s - loss: 1.3415 - acc: 0.5146 - val_loss: 1.1404 - val_acc: 0.5896\n",
      "Epoch 2/10\n",
      " - 78s - loss: 1.0675 - acc: 0.6212 - val_loss: 0.9928 - val_acc: 0.6552\n",
      "Epoch 3/10\n",
      " - 79s - loss: 0.9107 - acc: 0.6801 - val_loss: 0.8759 - val_acc: 0.7010\n",
      "Epoch 4/10\n",
      " - 75s - loss: 0.7930 - acc: 0.7231 - val_loss: 0.8347 - val_acc: 0.7098\n",
      "Epoch 5/10\n",
      " - 75s - loss: 0.7169 - acc: 0.7488 - val_loss: 0.7922 - val_acc: 0.7304\n",
      "Epoch 6/10\n",
      " - 75s - loss: 0.6209 - acc: 0.7855 - val_loss: 0.8033 - val_acc: 0.7258\n",
      "Epoch 7/10\n",
      " - 75s - loss: 0.5460 - acc: 0.8096 - val_loss: 0.7679 - val_acc: 0.7392\n",
      "Epoch 8/10\n",
      " - 74s - loss: 0.4664 - acc: 0.8378 - val_loss: 0.7782 - val_acc: 0.7492\n",
      "Epoch 9/10\n",
      " - 86s - loss: 0.3982 - acc: 0.8621 - val_loss: 0.7724 - val_acc: 0.7564\n",
      "Epoch 10/10\n",
      " - 82s - loss: 0.3222 - acc: 0.8876 - val_loss: 0.7788 - val_acc: 0.7656\n"
     ]
    }
   ],
   "source": [
    "# 更新次數: 50000 * 10 / 200\n",
    "train_history = cnn.fit(x=x_train_reshape, y=y_train_cat, \n",
    "                        batch_size=200, epochs=10, \n",
    "                        validation_split=0.1, verbose=2)"
   ]
  },
  {
   "cell_type": "code",
   "execution_count": 20,
   "metadata": {},
   "outputs": [
    {
     "data": {
      "text/plain": [
       "[<matplotlib.lines.Line2D at 0x17fecc4e0>]"
      ]
     },
     "execution_count": 20,
     "metadata": {},
     "output_type": "execute_result"
    },
    {
     "data": {
      "image/png": "[encoded data removed]",
      "text/plain": [
       "<matplotlib.figure.Figure at 0x17fecc4a8>"
      ]
     },
     "metadata": {},
     "output_type": "display_data"
    }
   ],
   "source": [
    "y = train_history.history[\"val_loss\"]\n",
    "plt.title(\"Validation Loss\")\n",
    "plt.plot(y)"
   ]
  },
  {
   "cell_type": "code",
   "execution_count": 21,
   "metadata": {},
   "outputs": [
    {
     "name": "stdout",
     "output_type": "stream",
     "text": [
      "預測: [5 8 8 ... 5 4 7]\n",
      "10000/10000 [==============================] - 7s 666us/step\n",
      "[Loss, Accuracy] [0.822441515159607, 0.7487]\n"
     ]
    }
   ],
   "source": [
    "print(\"預測:\", cnn.predict_classes(x_test_reshape))\n",
    "print(\"[Loss, Accuracy]\", cnn.evaluate(x_test_reshape, y_test_cat))"
   ]
  },
  {
   "cell_type": "code",
   "execution_count": 23,
   "metadata": {},
   "outputs": [
    {
     "data": {
      "text/html": [
       "<div>\n",
       "<style scoped>\n",
       "    .dataframe tbody tr th:only-of-type {\n",
       "        vertical-align: middle;\n",
       "    }\n",
       "\n",
       "    .dataframe tbody tr th {\n",
       "        vertical-align: top;\n",
       "    }\n",
       "\n",
       "    .dataframe thead th {\n",
       "        text-align: right;\n",
       "    }\n",
       "</style>\n",
       "<table border=\"1\" class=\"dataframe\">\n",
       "  <thead>\n",
       "    <tr style=\"text-align: right;\">\n",
       "      <th></th>\n",
       "      <th>0</th>\n",
       "      <th>1</th>\n",
       "      <th>2</th>\n",
       "      <th>3</th>\n",
       "      <th>4</th>\n",
       "      <th>5</th>\n",
       "      <th>6</th>\n",
       "      <th>7</th>\n",
       "      <th>8</th>\n",
       "      <th>9</th>\n",
       "    </tr>\n",
       "  </thead>\n",
       "  <tbody>\n",
       "    <tr>\n",
       "      <th>0</th>\n",
       "      <td>822</td>\n",
       "      <td>17</td>\n",
       "      <td>35</td>\n",
       "      <td>16</td>\n",
       "      <td>16</td>\n",
       "      <td>9</td>\n",
       "      <td>7</td>\n",
       "      <td>11</td>\n",
       "      <td>42</td>\n",
       "      <td>25</td>\n",
       "    </tr>\n",
       "    <tr>\n",
       "      <th>1</th>\n",
       "      <td>11</td>\n",
       "      <td>913</td>\n",
       "      <td>7</td>\n",
       "      <td>5</td>\n",
       "      <td>2</td>\n",
       "      <td>1</td>\n",
       "      <td>2</td>\n",
       "      <td>2</td>\n",
       "      <td>21</td>\n",
       "      <td>36</td>\n",
       "    </tr>\n",
       "    <tr>\n",
       "      <th>2</th>\n",
       "      <td>61</td>\n",
       "      <td>9</td>\n",
       "      <td>658</td>\n",
       "      <td>55</td>\n",
       "      <td>61</td>\n",
       "      <td>48</td>\n",
       "      <td>57</td>\n",
       "      <td>29</td>\n",
       "      <td>11</td>\n",
       "      <td>11</td>\n",
       "    </tr>\n",
       "    <tr>\n",
       "      <th>3</th>\n",
       "      <td>15</td>\n",
       "      <td>17</td>\n",
       "      <td>70</td>\n",
       "      <td>572</td>\n",
       "      <td>59</td>\n",
       "      <td>154</td>\n",
       "      <td>55</td>\n",
       "      <td>31</td>\n",
       "      <td>9</td>\n",
       "      <td>18</td>\n",
       "    </tr>\n",
       "    <tr>\n",
       "      <th>4</th>\n",
       "      <td>22</td>\n",
       "      <td>4</td>\n",
       "      <td>99</td>\n",
       "      <td>57</td>\n",
       "      <td>692</td>\n",
       "      <td>39</td>\n",
       "      <td>39</td>\n",
       "      <td>37</td>\n",
       "      <td>8</td>\n",
       "      <td>3</td>\n",
       "    </tr>\n",
       "    <tr>\n",
       "      <th>5</th>\n",
       "      <td>16</td>\n",
       "      <td>7</td>\n",
       "      <td>46</td>\n",
       "      <td>174</td>\n",
       "      <td>36</td>\n",
       "      <td>643</td>\n",
       "      <td>23</td>\n",
       "      <td>41</td>\n",
       "      <td>4</td>\n",
       "      <td>10</td>\n",
       "    </tr>\n",
       "    <tr>\n",
       "      <th>6</th>\n",
       "      <td>5</td>\n",
       "      <td>8</td>\n",
       "      <td>45</td>\n",
       "      <td>55</td>\n",
       "      <td>25</td>\n",
       "      <td>21</td>\n",
       "      <td>827</td>\n",
       "      <td>5</td>\n",
       "      <td>3</td>\n",
       "      <td>6</td>\n",
       "    </tr>\n",
       "    <tr>\n",
       "      <th>7</th>\n",
       "      <td>13</td>\n",
       "      <td>6</td>\n",
       "      <td>34</td>\n",
       "      <td>43</td>\n",
       "      <td>80</td>\n",
       "      <td>34</td>\n",
       "      <td>5</td>\n",
       "      <td>766</td>\n",
       "      <td>3</td>\n",
       "      <td>16</td>\n",
       "    </tr>\n",
       "    <tr>\n",
       "      <th>8</th>\n",
       "      <td>67</td>\n",
       "      <td>37</td>\n",
       "      <td>16</td>\n",
       "      <td>11</td>\n",
       "      <td>6</td>\n",
       "      <td>5</td>\n",
       "      <td>6</td>\n",
       "      <td>2</td>\n",
       "      <td>830</td>\n",
       "      <td>20</td>\n",
       "    </tr>\n",
       "    <tr>\n",
       "      <th>9</th>\n",
       "      <td>37</td>\n",
       "      <td>134</td>\n",
       "      <td>13</td>\n",
       "      <td>14</td>\n",
       "      <td>5</td>\n",
       "      <td>7</td>\n",
       "      <td>1</td>\n",
       "      <td>8</td>\n",
       "      <td>17</td>\n",
       "      <td>764</td>\n",
       "    </tr>\n",
       "  </tbody>\n",
       "</table>\n",
       "</div>"
      ],
      "text/plain": [
       "     0    1    2    3    4    5    6    7    8    9\n",
       "0  822   17   35   16   16    9    7   11   42   25\n",
       "1   11  913    7    5    2    1    2    2   21   36\n",
       "2   61    9  658   55   61   48   57   29   11   11\n",
       "3   15   17   70  572   59  154   55   31    9   18\n",
       "4   22    4   99   57  692   39   39   37    8    3\n",
       "5   16    7   46  174   36  643   23   41    4   10\n",
       "6    5    8   45   55   25   21  827    5    3    6\n",
       "7   13    6   34   43   80   34    5  766    3   16\n",
       "8   67   37   16   11    6    5    6    2  830   20\n",
       "9   37  134   13   14    5    7    1    8   17  764"
      ]
     },
     "execution_count": 23,
     "metadata": {},
     "output_type": "execute_result"
    }
   ],
   "source": [
    "import pandas as pd\n",
    "from sklearn.metrics import confusion_matrix\n",
    "pd.DataFrame(confusion_matrix(y_test, cnn.predict_classes(x_test_reshape)))"
   ]
  },
  {
   "cell_type": "code",
   "execution_count": 24,
   "metadata": {
    "collapsed": true
   },
   "outputs": [],
   "source": [
    "# 儲存model\n",
    "cnn.save(\"firstcnn.h5\")"
   ]
  },
  {
   "cell_type": "code",
   "execution_count": 25,
   "metadata": {},
   "outputs": [
    {
     "name": "stdout",
     "output_type": "stream",
     "text": [
      "10000/10000 [==============================] - 8s 822us/step\n"
     ]
    },
    {
     "data": {
      "text/plain": [
       "[0.822441515159607, 0.7487]"
      ]
     },
     "execution_count": 25,
     "metadata": {},
     "output_type": "execute_result"
    }
   ],
   "source": [
    "# 讀取model\n",
    "from keras.models import load_model\n",
    "loadcnn = load_model(\"firstcnn.h5\")\n",
    "loadcnn.compile(optimizer=\"adam\", loss=\"categorical_crossentropy\", metrics=[\"accuracy\"])\n",
    "loadcnn.evaluate(x_test_reshape, y_test_cat)"
   ]
  },
  {
   "cell_type": "code",
   "execution_count": null,
   "metadata": {
    "collapsed": true
   },
   "outputs": [],
   "source": []
  }
 ],
 "metadata": {
  "kernelspec": {
   "display_name": "py36default",
   "language": "python",
   "name": "py36default"
  },
  "language_info": {
   "codemirror_mode": {
    "name": "ipython",
    "version": 3
   },
   "file_extension": ".py",
   "mimetype": "text/x-python",
   "name": "python",
   "nbconvert_exporter": "python",
   "pygments_lexer": "ipython3",
   "version": "3.6.0"
  }
 },
 "nbformat": 4,
 "nbformat_minor": 2
}
